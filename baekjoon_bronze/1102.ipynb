{
 "cells": [
  {
   "cell_type": "markdown",
   "metadata": {},
   "source": [
    "#### 21년 11월 2일(3일 새벽)\n",
    "알고리즘 챌린지 6일차,  \n",
    "백준 브론즈5 문제를 풀려한다."
   ]
  },
  {
   "cell_type": "markdown",
   "metadata": {},
   "source": []
  },
  {
   "cell_type": "code",
   "execution_count": 1,
   "metadata": {},
   "outputs": [
    {
     "name": "stdout",
     "output_type": "stream",
     "text": [
      "5\n"
     ]
    }
   ],
   "source": [
    "#1000번\n",
    "a,b = map(int,input().split())\n",
    "print(a+b)"
   ]
  },
  {
   "cell_type": "code",
   "execution_count": null,
   "metadata": {},
   "outputs": [],
   "source": [
    "#1001번\n",
    "a,b = map(int,input().split())\n",
    "print(a-b)"
   ]
  },
  {
   "cell_type": "code",
   "execution_count": 2,
   "metadata": {},
   "outputs": [
    {
     "name": "stdout",
     "output_type": "stream",
     "text": [
      "10\n",
      "0\n"
     ]
    }
   ],
   "source": [
    "#1271번\n",
    "m,p = map(int,input().split())\n",
    "print(m//p)\n",
    "print(m%p)"
   ]
  },
  {
   "cell_type": "code",
   "execution_count": 5,
   "metadata": {},
   "outputs": [
    {
     "name": "stdout",
     "output_type": "stream",
     "text": [
      "10\n"
     ]
    }
   ],
   "source": [
    "#1550번\n",
    "n = int(input(),16)\n",
    "print(n)"
   ]
  },
  {
   "cell_type": "code",
   "execution_count": null,
   "metadata": {},
   "outputs": [],
   "source": [
    "#2338번\n",
    "a=int(input())\n",
    "b=int(input())\n",
    "print(a+b)\n",
    "print(a-b)\n",
    "print(a*b)"
   ]
  },
  {
   "cell_type": "code",
   "execution_count": 9,
   "metadata": {},
   "outputs": [
    {
     "name": "stdout",
     "output_type": "stream",
     "text": [
      "1\n"
     ]
    }
   ],
   "source": [
    "#2475번\n",
    "a,b,c,d,e = map(int,input().split())\n",
    "print((a**2+b**2+c**2+d**2+e**2)%10)"
   ]
  },
  {
   "cell_type": "code",
   "execution_count": null,
   "metadata": {},
   "outputs": [],
   "source": [
    "#14645번 ㅋㅋ\n",
    "n,c = map(int,input().split())\n",
    "for i in range(n):\n",
    "    x,y = map(int,input().split())\n",
    "print(\"비와이\")"
   ]
  },
  {
   "cell_type": "code",
   "execution_count": null,
   "metadata": {},
   "outputs": [],
   "source": [
    "#10998번\n",
    "a,b = map(int,input().split())\n",
    "print(a*b)"
   ]
  },
  {
   "cell_type": "code",
   "execution_count": 44,
   "metadata": {},
   "outputs": [
    {
     "name": "stdout",
     "output_type": "stream",
     "text": [
      "10\n",
      "4\n",
      "21\n",
      "2.3333333333333335\n",
      "1\n"
     ]
    }
   ],
   "source": [
    "#10869번\n",
    "a,b = map(int,input().split())\n",
    "print(a+b)\n",
    "print(a-b)\n",
    "print(a*b)\n",
    "print(int(a/b))\n",
    "print(a%b)"
   ]
  },
  {
   "cell_type": "markdown",
   "metadata": {},
   "source": [
    "브론즈5문제가 전에 풀었던  \n",
    "왕기초 문제와 유사해서  \n",
    "브론즈4 문제를 풀려한다.\n"
   ]
  },
  {
   "cell_type": "markdown",
   "metadata": {},
   "source": []
  },
  {
   "cell_type": "code",
   "execution_count": null,
   "metadata": {},
   "outputs": [],
   "source": [
    "#1712번\n",
    "\n",
    "a,b,c = map(int,input().split())\n",
    "i=1\n",
    "if b>=c:\n",
    "    print(-1)\n",
    "else :\n",
    "    print(a//(c-b)+1)\n",
    "#무한루프를 돌려서 카운트를 세는 방식은 시간초과가 났다.\n",
    "'''풀이를 검색해보니 노트북 비용에서 가변비용을 뺀 값을 \n",
    "고정비로 나눈 값에 +1을 해주면 쉽게 손익분기점을 구할 수 있었다.\n",
    "참고 : https://wlstyql.tistory.com/51\n",
    "'''"
   ]
  },
  {
   "cell_type": "code",
   "execution_count": 21,
   "metadata": {},
   "outputs": [
    {
     "name": "stdout",
     "output_type": "stream",
     "text": [
      "600\n"
     ]
    }
   ],
   "source": [
    "#2480번\n",
    "a,b,c = map(int,input().split())\n",
    "if a==b and b==c :\n",
    "    print(10000+b*1000)\n",
    "elif a==b or b==c or a==c:\n",
    "    print(1000+100*(a if a==b else c if a==c else b))\n",
    "else:\n",
    "    print((b if a<b and c<b else c if a<c and b<c else a)*100)"
   ]
  },
  {
   "cell_type": "code",
   "execution_count": 30,
   "metadata": {},
   "outputs": [
    {
     "name": "stdout",
     "output_type": "stream",
     "text": [
      "[23423, 65, 2]\n",
      "2 65 23423\n"
     ]
    }
   ],
   "source": [
    "#2752번\n",
    "nums= list(map(int,input().split()))\n",
    "\n",
    "nums.sort()\n",
    "print(*nums)\n",
    "\n"
   ]
  },
  {
   "cell_type": "code",
   "execution_count": 35,
   "metadata": {},
   "outputs": [
    {
     "name": "stdout",
     "output_type": "stream",
     "text": [
      "B\n"
     ]
    }
   ],
   "source": [
    "#9498번\n",
    "s = int(input())\n",
    "\n",
    "if s>=90 and s<=100:\n",
    "    print(\"A\")\n",
    "elif s>=80 and s<=89:\n",
    "    print(\"B\")\n",
    "elif s>=70 and s<=79:\n",
    "    print(\"C\")\n",
    "elif s>=60 and s<=69:\n",
    "    print(\"D\")\n",
    "elif s<60:\n",
    "    print(\"F\")"
   ]
  },
  {
   "cell_type": "code",
   "execution_count": 36,
   "metadata": {},
   "outputs": [
    {
     "name": "stdout",
     "output_type": "stream",
     "text": [
      "Scalene\n"
     ]
    }
   ],
   "source": [
    "#10101번\n",
    "x = int(input())\n",
    "y = int(input())\n",
    "z = int(input())\n",
    "if x+y+z ==180 :\n",
    "    if x==y and y==z :\n",
    "        print(\"Equilateral\")\n",
    "    elif x==y or y==z or x==z:\n",
    "        print(\"Isosceles\")\n",
    "    elif x!=y and y!=z:\n",
    "        print(\"Scalene\")\n",
    "else :\n",
    "    print(\"Error\")"
   ]
  },
  {
   "cell_type": "code",
   "execution_count": 39,
   "metadata": {},
   "outputs": [
    {
     "name": "stdout",
     "output_type": "stream",
     "text": [
      "68.0\n"
     ]
    }
   ],
   "source": [
    "\n",
    "a = int(input())\n",
    "b = int(input())\n",
    "c = int(input())\n",
    "d = int(input())\n",
    "e = int(input())\n",
    "\n",
    "scores = [a,b,c,d,e]\n",
    "for i in range(len(scores)):\n",
    "    if scores[i] < 40 :\n",
    "        scores[i]=40\n",
    "    \n",
    "\n",
    "print(int(sum(scores)/len(scores)))\n"
   ]
  },
  {
   "cell_type": "code",
   "execution_count": 42,
   "metadata": {},
   "outputs": [
    {
     "name": "stdout",
     "output_type": "stream",
     "text": [
      "1000000\n"
     ]
    }
   ],
   "source": [
    "#14623번\n",
    "a = int(input(),2)\n",
    "b = int(input(),2)\n",
    "print(format(a*b,'b'))\n"
   ]
  },
  {
   "cell_type": "code",
   "execution_count": null,
   "metadata": {},
   "outputs": [],
   "source": []
  }
 ],
 "metadata": {
  "interpreter": {
   "hash": "aee8b7b246df8f9039afb4144a1f6fd8d2ca17a180786b69acc140d282b71a49"
  },
  "kernelspec": {
   "display_name": "Python 3.9.2 64-bit",
   "language": "python",
   "name": "python3"
  },
  "language_info": {
   "codemirror_mode": {
    "name": "ipython",
    "version": 3
   },
   "file_extension": ".py",
   "mimetype": "text/x-python",
   "name": "python",
   "nbconvert_exporter": "python",
   "pygments_lexer": "ipython3",
   "version": "3.9.2"
  },
  "orig_nbformat": 4
 },
 "nbformat": 4,
 "nbformat_minor": 2
}
