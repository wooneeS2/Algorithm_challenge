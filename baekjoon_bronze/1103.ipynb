{
 "cells": [
  {
   "cell_type": "markdown",
   "metadata": {},
   "source": [
    "### 11월 03일 \n",
    "#### 알고리즘 챌린지 6일차  \n",
    "오늘은 스터디를 준비하면서 풀지 못했던 문제를   \n",
    "스터디 시간에 배운 내용을 바탕으로 복습하고,  \n",
    "브론즈 문제를 더 풀 예정이다.  "
   ]
  },
  {
   "cell_type": "markdown",
   "metadata": {},
   "source": [
    "---스터디 복습 ---"
   ]
  },
  {
   "cell_type": "code",
   "execution_count": 3,
   "metadata": {},
   "outputs": [
    {
     "name": "stdout",
     "output_type": "stream",
     "text": [
      "1\n",
      "7\n",
      "6\n"
     ]
    }
   ],
   "source": [
    "#1009번\n",
    "#테스트 케이스의 수가 정해져 있지 않아서, \n",
    "#테스트 케이스로 연산하는 반복문을 돌리면 시간초과가 났다.\n",
    "t = int(input())\n",
    "for _ in range(t):\n",
    "    a,b=map(int,input().split())\n",
    "    c=1\n",
    "    for _ in range(b):\n",
    "        c=(a*c)%10\n",
    "    if c== 0 :print(10)\n",
    "    else : print(c)\n",
    "# 이 코드도 python3로 돌리면 시간초과가 났는데,\n",
    "# pypy3로 돌리니 정답처리가 되었다."
   ]
  },
  {
   "cell_type": "code",
   "execution_count": 1,
   "metadata": {},
   "outputs": [],
   "source": [
    "#정석 풀이\n",
    "#밑 수 일의 자리 규칙을 이용해서 푸는것이 정석같아서\n",
    "#이 방식으로도 문제를 풀었다.\n",
    "t = int(input())\n",
    "number=[]\n",
    "for i in range(t):\n",
    "    a,b = map(int,input().split())\n",
    "    a = a% 10\n",
    "    if a == 0:\n",
    "        print(10)\n",
    "    elif a==1 or a==5 or a==6:\n",
    "        b =b%2\n",
    "        if b ==1:\n",
    "            print(a)\n",
    "        else:\n",
    "            print((a*a)%10)\n",
    "    else:\n",
    "        b = b% 4\n",
    "        if b ==0 :\n",
    "            print((a**4)%10)\n",
    "        else:\n",
    "            print((a**b)%10)\n",
    "#이중포문으로 해결한 코드보다 위의 코드가 시간이 16배  단축됐다.\n",
    "#출처 https://velog.io/@cosmos/BOJ%EB%B0%B1%EC%A4%80-1009-python"
   ]
  },
  {
   "cell_type": "code",
   "execution_count": null,
   "metadata": {},
   "outputs": [],
   "source": [
    "#1032번\n",
    "#문제 아이디어는 맞았으나 구현을 못해서 풀지 못했던 문제였다.\n",
    "#for문에서 in range가 아닌 range로 하면 해결되는 문제였다.\n",
    "\n",
    "num = int(input())\n",
    "files=[]\n",
    "\n",
    "#파일 명을 파일 개수만큼 입력받고 리스트에 저장해준다.\n",
    "for i in range(num):\n",
    "    name = input()\n",
    "    files.append(name)\n",
    "\n",
    "#파일명 길이의 리스트를 선언해주고, 안에 0을 넣어준다.\n",
    "#여기에 출력값을 넣어줄 것이다.\n",
    "isSame=[0]*len(files[0])\n",
    "\n",
    "#파일 이름의 길이는 모두 같다했으므로, 첫번째 파일을 기준으로 잡는다.\n",
    "for i in range(len(files[0])):\n",
    "    # 파일의 첫번째 값 부터 마지막까지 비교를 시작한다.\n",
    "    for j in files[0:]:\n",
    "        #첫번째 파일의 i번째 문자열이 j번 항목의 i번째문자열과 같으면\n",
    "        # 같은 문자열을 isSame리스트의 i번째의 값에 넣어준다.\n",
    "        if files[0][i] == j[i]:\n",
    "            isSame[i] = files[0][i]\n",
    "        # 값이 같지 않으면 ?를 넣어준다. \n",
    "        else :\n",
    "            isSame[i]=\"?\"\n",
    "            break\n",
    "            \n",
    "#join을 통해 공백을 없앤채 출력한다.\n",
    "print(\"\".join(isSame))\n",
    "#출처 : elice-ai-track-3기_소규모코테-영훈님\n"
   ]
  },
  {
   "cell_type": "markdown",
   "metadata": {},
   "source": [
    "---4번째 스터디 준비---  \n",
    "1212,  \n",
    "1247,  \n",
    "1110,  \n",
    "1152,  \n",
    "1145,  \n",
    "1157  "
   ]
  },
  {
   "cell_type": "code",
   "execution_count": 4,
   "metadata": {},
   "outputs": [
    {
     "name": "stdout",
     "output_type": "stream",
     "text": [
      "11001100\n"
     ]
    }
   ],
   "source": [
    "#1212번\n",
    "n = int(input(),8)\n",
    "print(format(n,'b'))\n"
   ]
  },
  {
   "cell_type": "code",
   "execution_count": 13,
   "metadata": {},
   "outputs": [],
   "source": [
    "#1247번\n",
    "import sys\n",
    "\n",
    "for _ in range(3):\n",
    "    t = int(int(sys.stdin.readline()))\n",
    "    numbers = [0]*t\n",
    "    \n",
    "\n",
    "    for i in range(t):\n",
    "        numbers[i]=int(int(sys.stdin.readline()))\n",
    "    if sum(numbers)==0:\n",
    "        print(0)\n",
    "    else:\n",
    "        print(\"+\") if sum(numbers) >0 else print(\"-\")\n",
    "    numbers =[]\n"
   ]
  },
  {
   "cell_type": "code",
   "execution_count": 16,
   "metadata": {},
   "outputs": [
    {
     "name": "stdout",
     "output_type": "stream",
     "text": [
      "\n"
     ]
    }
   ],
   "source": [
    "#1152번\n",
    "import sys\n",
    "s = sys.stdin.readline()\n",
    "s.split(\" \")\n",
    "print(s)\n"
   ]
  },
  {
   "cell_type": "code",
   "execution_count": null,
   "metadata": {},
   "outputs": [],
   "source": [
    "#1152번\n",
    "import sys\n",
    "s = sys.stdin.readline()\n",
    "words=[]\n",
    "words =s.split(\" \")\n",
    "if words[0]==\"\":\n",
    "    del words[0]\n",
    "if words[-1]==\"\" or words[-1]==\"\\n\":\n",
    "    del words[-1]\n",
    "# print(words)\n",
    "print(len(words))"
   ]
  }
 ],
 "metadata": {
  "interpreter": {
   "hash": "aee8b7b246df8f9039afb4144a1f6fd8d2ca17a180786b69acc140d282b71a49"
  },
  "kernelspec": {
   "display_name": "Python 3.9.2 64-bit",
   "language": "python",
   "name": "python3"
  },
  "language_info": {
   "codemirror_mode": {
    "name": "ipython",
    "version": 3
   },
   "file_extension": ".py",
   "mimetype": "text/x-python",
   "name": "python",
   "nbconvert_exporter": "python",
   "pygments_lexer": "ipython3",
   "version": "3.9.2"
  },
  "orig_nbformat": 4
 },
 "nbformat": 4,
 "nbformat_minor": 2
}
