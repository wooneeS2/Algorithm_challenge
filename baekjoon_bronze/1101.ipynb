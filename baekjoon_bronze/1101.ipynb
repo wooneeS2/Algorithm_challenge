{
 "cells": [
  {
   "cell_type": "markdown",
   "metadata": {},
   "source": [
    "백준 문제 풀이"
   ]
  },
  {
   "cell_type": "code",
   "execution_count": null,
   "metadata": {},
   "outputs": [],
   "source": [
    "#1032번\n"
   ]
  },
  {
   "cell_type": "code",
   "execution_count": null,
   "metadata": {},
   "outputs": [],
   "source": [
    "#1110번\n",
    "#재귀함수\n",
    "def plus_cycle(number,oneNum,count):\n",
    "    x=0\n",
    "    y=0\n",
    "    newCount=count\n",
    "    if number//10 >=1 :\n",
    "        x=number//10     \n",
    "    else : x=0\n",
    "    y=number%10\n",
    "    # print(x,y)\n",
    "    z = int(str(y)+str((x+y)%10))\n",
    "    # print(\"처음: \",count)\n",
    "    # print(z)\n",
    "    if z == oneNum :\n",
    "        # print(\"마지막: \", count+1)\n",
    "        newCount=count\n",
    "        print(newCount+1)\n",
    "    else :\n",
    "            \n",
    "        count+=1\n",
    "        # print(\"변함: \",count)\n",
    "        plus_cycle(z,oneNum,count)\n",
    "    \n",
    "\n",
    "num = int(input())\n",
    "count=0\n",
    "plus_cycle(num,num,count)\n"
   ]
  },
  {
   "cell_type": "code",
   "execution_count": null,
   "metadata": {},
   "outputs": [],
   "source": [
    "#무한루프로 만든 코드\n",
    "number = oneNum = int(input())\n",
    "count =0\n",
    "\n",
    "while True :\n",
    "    x = number//10\n",
    "    y = number%10\n",
    "    z = x+y\n",
    "    count+=1\n",
    "    number = int(str(number%10)+str(z%10))\n",
    "    if(number==oneNum):\n",
    "        break\n",
    "print(count)"
   ]
  }
 ],
 "metadata": {
  "language_info": {
   "name": "python"
  },
  "orig_nbformat": 4
 },
 "nbformat": 4,
 "nbformat_minor": 2
}
