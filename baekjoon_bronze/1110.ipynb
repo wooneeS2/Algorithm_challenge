{
 "cells": [
  {
   "cell_type": "markdown",
   "metadata": {},
   "source": [
    "근 일주일 정도 게을러져서 스터디 준비를 못했다.  \n",
    "스터디 전 급하게 준비하는 오늘의 문제풀이  \n"
   ]
  },
  {
   "cell_type": "code",
   "execution_count": null,
   "metadata": {},
   "outputs": [],
   "source": [
    "#1100번\n",
    "import sys\n",
    "chess = []\n",
    "cnt = 0\n",
    "for _ in range(8):\n",
    "    status = list(sys.stdin.readline())\n",
    "    del status[-1]\n",
    "    chess.append(status)\n",
    "for i in range(1, len(chess)+1):\n",
    "    if i%2 !=0:\n",
    "        for j in range(0,len(chess[i-1]),2):\n",
    "            if chess[i-1][j] =='F':\n",
    "                cnt=cnt+1\n",
    "            # print(chess[i-1][j])\n",
    "            # print(j)\n",
    "    else:\n",
    "        for j in range(1,len(chess[i-1]),2):\n",
    "            if chess[i-1][j]=='F':\n",
    "                cnt=cnt+1\n",
    "            # print(j)\n",
    "print(cnt)"
   ]
  },
  {
   "cell_type": "code",
   "execution_count": 1,
   "metadata": {},
   "outputs": [
    {
     "ename": "IndexError",
     "evalue": "list assignment index out of range",
     "output_type": "error",
     "traceback": [
      "\u001b[0;31m---------------------------------------------------------------------------\u001b[0m",
      "\u001b[0;31mIndexError\u001b[0m                                Traceback (most recent call last)",
      "\u001b[0;32m/var/folders/0v/gjpwhv5957g8vj67w5f41_680000gn/T/ipykernel_16850/3646213555.py\u001b[0m in \u001b[0;36m<module>\u001b[0;34m\u001b[0m\n\u001b[1;32m      4\u001b[0m \u001b[0ms\u001b[0m \u001b[0;34m=\u001b[0m \u001b[0msys\u001b[0m\u001b[0;34m.\u001b[0m\u001b[0mstdin\u001b[0m\u001b[0;34m.\u001b[0m\u001b[0mreadline\u001b[0m\u001b[0;34m(\u001b[0m\u001b[0;34m)\u001b[0m\u001b[0;34m\u001b[0m\u001b[0;34m\u001b[0m\u001b[0m\n\u001b[1;32m      5\u001b[0m \u001b[0mlist\u001b[0m\u001b[0;34m=\u001b[0m\u001b[0mlist\u001b[0m\u001b[0;34m(\u001b[0m\u001b[0ms\u001b[0m\u001b[0;34m)\u001b[0m\u001b[0;34m\u001b[0m\u001b[0;34m\u001b[0m\u001b[0m\n\u001b[0;32m----> 6\u001b[0;31m \u001b[0;32mdel\u001b[0m \u001b[0mlist\u001b[0m\u001b[0;34m[\u001b[0m\u001b[0;34m-\u001b[0m\u001b[0;36m1\u001b[0m\u001b[0;34m]\u001b[0m\u001b[0;34m\u001b[0m\u001b[0;34m\u001b[0m\u001b[0m\n\u001b[0m\u001b[1;32m      7\u001b[0m \u001b[0;34m\u001b[0m\u001b[0m\n\u001b[1;32m      8\u001b[0m \u001b[0mnewList\u001b[0m\u001b[0;34m=\u001b[0m\u001b[0;34m[\u001b[0m\u001b[0;34m]\u001b[0m\u001b[0;34m\u001b[0m\u001b[0;34m\u001b[0m\u001b[0m\n",
      "\u001b[0;31mIndexError\u001b[0m: list assignment index out of range"
     ]
    }
   ],
   "source": [
    "#1157번\n",
    "#시간초과 ㅠㅠ\n",
    "import sys\n",
    "s = sys.stdin.readline()\n",
    "list=list(s)\n",
    "del list[-1]\n",
    "\n",
    "newList=[]\n",
    "for i in list:\n",
    "    newList.append(i.upper())\n",
    "newDic={}\n",
    "\n",
    "for i in range(0,len(newList)):\n",
    "    n = newList.count(newList[i]) \n",
    "    newDic.setdefault(newList[i],n)\n",
    "    \n",
    "print(newDic)\n",
    "maxNum = max(newDic.values())\n",
    "keyList=[]\n",
    "result=0\n",
    "for key,value in newDic.items():\n",
    "    if value == maxNum:\n",
    "        keyList.append(key)\n",
    "        result=key\n",
    "print(keyList)\n",
    "if len(keyList)>1:\n",
    "    print(\"?\")\n",
    "else:\n",
    "    print(result)\n"
   ]
  },
  {
   "cell_type": "code",
   "execution_count": null,
   "metadata": {},
   "outputs": [],
   "source": []
  }
 ],
 "metadata": {
  "interpreter": {
   "hash": "aee8b7b246df8f9039afb4144a1f6fd8d2ca17a180786b69acc140d282b71a49"
  },
  "kernelspec": {
   "display_name": "Python 3.9.2 64-bit",
   "language": "python",
   "name": "python3"
  },
  "language_info": {
   "codemirror_mode": {
    "name": "ipython",
    "version": 3
   },
   "file_extension": ".py",
   "mimetype": "text/x-python",
   "name": "python",
   "nbconvert_exporter": "python",
   "pygments_lexer": "ipython3",
   "version": "3.9.2"
  },
  "orig_nbformat": 4
 },
 "nbformat": 4,
 "nbformat_minor": 2
}
