{
 "cells": [
  {
   "cell_type": "code",
   "execution_count": null,
   "metadata": {},
   "outputs": [],
   "source": [
    "#없는 숫자 더하기\n",
    "def solution(numbers):\n",
    "    true_numbers =[i for i in range(1,10)]\n",
    "    for i in numbers:\n",
    "        if i in true_numbers:\n",
    "            true_numbers.remove(i)\n",
    "    answer = sum(true_numbers)\n",
    "    return answer"
   ]
  },
  {
   "cell_type": "code",
   "execution_count": null,
   "metadata": {},
   "outputs": [],
   "source": [
    "#숫자 문자열과 영단어\n",
    "def solution(numbers):\n",
    "    true_numbers =[i for i in range(1,10)]\n",
    "    for i in numbers:\n",
    "        if i in true_numbers:\n",
    "            true_numbers.remove(i)\n",
    "    answer = sum(true_numbers)\n",
    "    return answer\n",
    "\n",
    "\n",
    "def solution(s):\n",
    "    num_words = {'zero': '0',\n",
    "             'one': '1',\n",
    "             'two': '2',\n",
    "             'three': '3',\n",
    "             'four': '4',\n",
    "             'five': '5',\n",
    "             'six': '6',\n",
    "             'seven': '7',\n",
    "             'eight': '8',\n",
    "             'nine': '9'}\n",
    "    answer =''\n",
    "    word=''\n",
    "    for i in s:\n",
    "        if i.isdigit():\n",
    "            answer+=i\n",
    "            continue\n",
    "        word+=i\n",
    "        if word in num_words:\n",
    "            answer+=num_words[word]\n",
    "            word=''\n",
    "        \n",
    "    \n",
    "    return int(answer)"
   ]
  },
  {
   "cell_type": "code",
   "execution_count": null,
   "metadata": {},
   "outputs": [],
   "source": [
    "#음양 더하기\n",
    "def solution(absolutes, signs):\n",
    "    answer=0\n",
    "    for i in range(len(absolutes)):\n",
    "        if signs[i]:\n",
    "            answer+=absolutes[i]\n",
    "        else:\n",
    "            answer-=absolutes[i]\n",
    "    return answer"
   ]
  },
  {
   "cell_type": "code",
   "execution_count": null,
   "metadata": {},
   "outputs": [],
   "source": [
    "#내적\n",
    "def solution(a, b):\n",
    "    answer = 0\n",
    "    for i in range(len(a)):\n",
    "        answer+=a[i]*b[i]\n",
    "    return answer"
   ]
  },
  {
   "cell_type": "code",
   "execution_count": null,
   "metadata": {},
   "outputs": [],
   "source": []
  }
 ],
 "metadata": {
  "language_info": {
   "name": "python"
  },
  "orig_nbformat": 4
 },
 "nbformat": 4,
 "nbformat_minor": 2
}
