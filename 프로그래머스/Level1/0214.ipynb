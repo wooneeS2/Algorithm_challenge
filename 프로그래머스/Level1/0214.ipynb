{
 "cells": [
  {
   "cell_type": "code",
   "execution_count": null,
   "metadata": {},
   "outputs": [],
   "source": [
    "#약수의 개수와 덧셈\n",
    "def solution(left, right):\n",
    "    answer = 0\n",
    "    \n",
    "    for i in range(left,right+1):\n",
    "        \n",
    "        count=0\n",
    "        for j in range(1,i+1):\n",
    "            if i % j ==0:\n",
    "                count+=1\n",
    "                \n",
    "        if count % 2 ==0:\n",
    "            answer+=i\n",
    "        else:\n",
    "            answer-=i\n",
    "            \n",
    "    return answer"
   ]
  }
 ],
 "metadata": {
  "language_info": {
   "name": "python"
  },
  "orig_nbformat": 4
 },
 "nbformat": 4,
 "nbformat_minor": 2
}
