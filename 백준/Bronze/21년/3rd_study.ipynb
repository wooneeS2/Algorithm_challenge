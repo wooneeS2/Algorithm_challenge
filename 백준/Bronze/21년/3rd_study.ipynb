{
 "cells": [
  {
   "cell_type": "markdown",
   "metadata": {},
   "source": [
    "### 스터디 3주차\n",
    "#### 풀어오기로한 문제\n",
    "- 1009(시간초과)\n",
    "- 1085\n",
    "- 1075\n",
    "- 1076\n",
    "- 1032(미해결)\n",
    "- 1110\n",
    "\n"
   ]
  },
  {
   "cell_type": "markdown",
   "metadata": {},
   "source": []
  },
  {
   "cell_type": "code",
   "execution_count": 3,
   "metadata": {},
   "outputs": [
    {
     "name": "stdout",
     "output_type": "stream",
     "text": [
      "1\n",
      "7\n",
      "6\n"
     ]
    }
   ],
   "source": [
    "\n",
    "#1009번\n",
    "#시간 초과\n",
    "n = int(input())\n",
    "'''테스트 케이스만큼 반복문을 돌려서 인풋을 받고\n",
    "    a^b의 나머지에 따라 컴퓨터 번호 출력\n",
    "    나머지가 0일 경우 10번 컴퓨터 번호 출력\n",
    "'''\n",
    "for i in range(n):\n",
    "    a, b = map(int,input().split())\n",
    "    if(a**b % 10 == 0):\n",
    "        print(\"10\")\n",
    "    else :\n",
    "        print(a**b % 10)\n",
    "        \n"
   ]
  },
  {
   "cell_type": "markdown",
   "metadata": {},
   "source": []
  },
  {
   "cell_type": "code",
   "execution_count": null,
   "metadata": {},
   "outputs": [],
   "source": [
    "\n",
    "#1085번\n",
    "#정답\n",
    "'''\n",
    "직사각형에서 탈출하려면 주어진 좌표와 경계선의 거리가\n",
    "가장 가까운 거리를 찾아야하므로 절댓값을 이용해서\n",
    "좌표 간 거리를 계산해주었음.\n",
    "'''\n",
    "x,y,w,h = map(int,input().split())\n",
    "place =[]\n",
    "\n",
    "place.append(abs(x-0))\n",
    "place.append(abs(y-0))\n",
    "place.append(abs(x-w))\n",
    "place.append(abs(y-h))\n",
    "\n",
    "print(min(place))\n"
   ]
  },
  {
   "cell_type": "code",
   "execution_count": null,
   "metadata": {},
   "outputs": [],
   "source": [
    "#1075\n",
    "#정답\n",
    "'''\n",
    "100으로 나눈 몫을 구해서 앞에 자리 수를 구해주고,\n",
    "그 다음에 100을 곱해서 숫자를 만들어줌.\n",
    "그 뒤에 무한루프를 돌려서 숫자가 f에 나누어 떨어지면\n",
    "뒤에 두자리를 슬라이싱하여 출력하고, 무한루프가 끝남\n",
    "'''\n",
    "n = int(input())\n",
    "f = int(input())\n",
    "\n",
    "num = (n//100)*100\n",
    "\n",
    "i=0\n",
    "while True :\n",
    "    d = num%f    \n",
    "    if(d==0):\n",
    "        print(str(num)[-2:])\n",
    "        break\n",
    "    num+=1\n"
   ]
  },
  {
   "cell_type": "code",
   "execution_count": null,
   "metadata": {},
   "outputs": [],
   "source": [
    "#1076\n",
    "#정답\n",
    "'''\n",
    "각 색의 값과 곱 사이에 규칙성을 발견해서\n",
    "색들을 인덱스에 넣고 값은 인덱스 번호로,\n",
    "곱은 인덱스 번호에 10을 제곱해서 곱의 값을 구해줌\n",
    "'''\n",
    "color = [\"black\",\"brown\",\"red\",\"orange\",\"yellow\",\"green\",\"blue\",\"violet\",\"grey\",\"white\"]\n",
    "\n",
    "x = input()\n",
    "y = input()\n",
    "z = input()\n",
    "\n",
    "print(((color.index(x)*10)+(color.index(y)))*(10**color.index(z)))\n"
   ]
  },
  {
   "cell_type": "code",
   "execution_count": null,
   "metadata": {},
   "outputs": [],
   "source": [
    "#1032번\n",
    "#풀지못함\n",
    "'''\n",
    "문자열을 배열로 받아서 배열의 값 끼리 문자열을 비교해서\n",
    "일치하는 문자열의 모든 위치를 반환하여 가장 긴 문자열의 길이만큼\n",
    "새로운 배열을 만들어 거기에 인덱스 별로 저장하고,\n",
    "빈 공간에는 ?를 넣어주려했으나 실패....\n",
    "'''\n",
    "\n",
    "num = int(input())\n",
    "files=[]\n",
    "isSame=[]\n",
    "for i in range(num):\n",
    "    name = input()\n",
    "    files.append(name)\n",
    "    print(files)\n",
    "    # files[i]=list(str(files[i]))\n",
    "    print(files)\n",
    "#range를 사용하지말고 in 리스트로 비교\n",
    "\n",
    "index=-1\n",
    "\n",
    "index = files[0].find(files[1],index+1)\n",
    "if index == -1:\n",
    "    isSame.append(-1)\n",
    "else :\n",
    "    isSame.append(index)\n",
    "isSame.append(index)\n",
    "print(isSame)"
   ]
  },
  {
   "cell_type": "code",
   "execution_count": null,
   "metadata": {},
   "outputs": [],
   "source": [
    "#1110번\n",
    "#정답\n",
    "#재귀함수\n",
    "'''\n",
    "재귀함수 말고 무한루프로 풀 수 있는 문제인데, \n",
    "처음에 무한루프로 문제를 풀다가 뇌절이 와서 \n",
    "재귀함수를 이용해서 풀었음. 재귀함수를 이용해서 \n",
    "문제를 풀어보니 무한루프로도 충분히 풀 수 있는 문제였음.\n",
    "'''\n",
    "'''\n",
    "각 자리의 수를 몫연산자와 나머지 연산자를 이용해서 구해주고\n",
    "처음 값을 따로 변수에 담아서 계산 후 숫자가 같아지면 \n",
    "재귀함수를 호출한 횟수가 출력됨.\n",
    "'''\n",
    "def plus_cycle(number,oneNum,count):\n",
    "    x=0\n",
    "    y=0\n",
    "    newCount=count\n",
    "    if number//10 >=1 :\n",
    "        x=number//10     \n",
    "    else : x=0\n",
    "    y=number%10\n",
    "    # print(x,y)\n",
    "    z = int(str(y)+str((x+y)%10))\n",
    "    # print(\"처음: \",count)\n",
    "    # print(z)\n",
    "    if z == oneNum :\n",
    "        # print(\"마지막: \", count+1)\n",
    "        newCount=count\n",
    "        print(newCount+1)\n",
    "    else :\n",
    "            \n",
    "        count+=1\n",
    "        # print(\"변함: \",count)\n",
    "        plus_cycle(z,oneNum,count)\n",
    "    \n",
    "\n",
    "num = int(input())\n",
    "count=0\n",
    "plus_cycle(num,num,count)\n"
   ]
  },
  {
   "cell_type": "code",
   "execution_count": null,
   "metadata": {},
   "outputs": [],
   "source": [
    "#무한루프로 만든 코드\n",
    "#정답\n",
    "number = oneNum = int(input())\n",
    "count =0\n",
    "\n",
    "while True :\n",
    "    x = number//10\n",
    "    y = number%10\n",
    "    z = x+y\n",
    "    count+=1\n",
    "    number = int(str(number%10)+str(z%10))\n",
    "    if(number==oneNum):\n",
    "        break\n",
    "print(count)"
   ]
  }
 ],
 "metadata": {
  "interpreter": {
   "hash": "aee8b7b246df8f9039afb4144a1f6fd8d2ca17a180786b69acc140d282b71a49"
  },
  "kernelspec": {
   "display_name": "Python 3.9.2 64-bit",
   "language": "python",
   "name": "python3"
  },
  "language_info": {
   "codemirror_mode": {
    "name": "ipython",
    "version": 3
   },
   "file_extension": ".py",
   "mimetype": "text/x-python",
   "name": "python",
   "nbconvert_exporter": "python",
   "pygments_lexer": "ipython3",
   "version": "3.9.2"
  },
  "orig_nbformat": 4
 },
 "nbformat": 4,
 "nbformat_minor": 2
}
