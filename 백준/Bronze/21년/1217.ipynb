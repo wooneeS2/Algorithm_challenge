{
 "cells": [
  {
   "cell_type": "markdown",
   "id": "4d029122",
   "metadata": {},
   "source": [
    "\n",
    "2439\n",
    "1159\n",
    "1173"
   ]
  },
  {
   "cell_type": "code",
   "execution_count": 17,
   "id": "ea9c3469",
   "metadata": {},
   "outputs": [
    {
     "name": "stdout",
     "output_type": "stream",
     "text": [
      "5\n",
      "1111*\n",
      "111**\n",
      "11***\n",
      "1****\n",
      "*****\n"
     ]
    }
   ],
   "source": [
    "#2439\n",
    "n = int(input())\n",
    "for i in range(1,n+1):\n",
    "    print(' '*(n-i)+'*'*i)"
   ]
  },
  {
   "cell_type": "code",
   "execution_count": 41,
   "id": "c6abf7d7",
   "metadata": {},
   "outputs": [
    {
     "name": "stdout",
     "output_type": "stream",
     "text": [
      "3\n",
      "asdfa\n",
      "adsfdas\n",
      "adsfas\n",
      "set()\n"
     ]
    },
    {
     "ename": "TypeError",
     "evalue": "'list' object is not callable",
     "output_type": "error",
     "traceback": [
      "\u001b[0;31m---------------------------------------------------------------------------\u001b[0m",
      "\u001b[0;31mTypeError\u001b[0m                                 Traceback (most recent call last)",
      "\u001b[0;32m<ipython-input-41-19f4af60d0f3>\u001b[0m in \u001b[0;36m<module>\u001b[0;34m\u001b[0m\n\u001b[1;32m     17\u001b[0m \u001b[0mnew_set\u001b[0m \u001b[0;34m=\u001b[0m \u001b[0mset\u001b[0m\u001b[0;34m(\u001b[0m\u001b[0mlists\u001b[0m\u001b[0;34m)\u001b[0m\u001b[0;34m\u001b[0m\u001b[0;34m\u001b[0m\u001b[0m\n\u001b[1;32m     18\u001b[0m \u001b[0mprint\u001b[0m\u001b[0;34m(\u001b[0m\u001b[0mnew_set\u001b[0m\u001b[0;34m)\u001b[0m\u001b[0;34m\u001b[0m\u001b[0;34m\u001b[0m\u001b[0m\n\u001b[0;32m---> 19\u001b[0;31m \u001b[0mnew_list\u001b[0m \u001b[0;34m=\u001b[0m \u001b[0mlist\u001b[0m\u001b[0;34m(\u001b[0m\u001b[0mnew_set\u001b[0m\u001b[0;34m)\u001b[0m\u001b[0;34m\u001b[0m\u001b[0;34m\u001b[0m\u001b[0m\n\u001b[0m\u001b[1;32m     20\u001b[0m \u001b[0mprint\u001b[0m\u001b[0;34m(\u001b[0m\u001b[0mnew_list\u001b[0m\u001b[0;34m)\u001b[0m\u001b[0;34m\u001b[0m\u001b[0;34m\u001b[0m\u001b[0m\n\u001b[1;32m     21\u001b[0m \u001b[0;34m\u001b[0m\u001b[0m\n",
      "\u001b[0;31mTypeError\u001b[0m: 'list' object is not callable"
     ]
    }
   ],
   "source": [
    "#1159\n",
    "n = int(input())\n",
    "player=[]\n",
    "for i in range(n):\n",
    "    player.append(input()[:1])\n",
    "\n",
    "# print(player)\n",
    "\n",
    "count = player.count('a')\n",
    "# print(count)\n",
    "\n",
    "lists = []\n",
    "for i in player:\n",
    "    count = player.count(i)\n",
    "    if count >= 5:\n",
    "        lists.append(i)\n",
    "\n",
    "new_set = set(lists)\n",
    "print(new_set)\n",
    "new_list = list(new_set)\n",
    "print(new_list)\n",
    "\n",
    "\n",
    "if len(new_list)!=0 :\n",
    "    \n",
    "    s = ''.join(sorted(new_list))\n",
    "    print(s) \n",
    "else :print(\"PREDAJA\")"
   ]
  },
  {
   "cell_type": "code",
   "execution_count": 22,
   "id": "5871ea65",
   "metadata": {},
   "outputs": [
    {
     "name": "stdout",
     "output_type": "stream",
     "text": [
      "1 60 70 11 11\n",
      "-1\n"
     ]
    }
   ],
   "source": [
    "#1173\n",
    "N,m,M,T,R = map(int,input().split())\n",
    "#맥박&운동시간&카운트\n",
    "pulse = m\n",
    "times=0\n",
    "count=0\n",
    "#운동시간\n",
    "count_correct = lambda x: x==N\n",
    "#운동하면 최대맥박인지?\n",
    "is_max = lambda x : x+T <=M\n",
    "#최소맥박인지?\n",
    "is_rest = lambda x : x<=m\n",
    "\n",
    "\n",
    "while True :\n",
    "    if m+T > M:\n",
    "        print(\"-1\")\n",
    "        break\n",
    "    else:\n",
    "        if count_correct(times) :\n",
    "            print(count)\n",
    "            break\n",
    "        else :\n",
    "            count+=1\n",
    "            if is_max(pulse) :\n",
    "                times+=1\n",
    "                pulse+=T\n",
    "    #             print(\"운동\",pulse)\n",
    "\n",
    "            else :\n",
    "                pulse-=R\n",
    "    #             print(\"휴식\",pulse)\n",
    "\n",
    "                if is_rest(pulse):\n",
    "\n",
    "                    pulse = m\n",
    "\n",
    "                else :\n",
    "                    pass\n",
    "\n",
    "\n",
    "    # print(count_all(10))\n",
    "    # print(pulse)\n",
    "    # print(is_max(pulse))\n",
    "    # print(is_rest(pulse))\n",
    "\n",
    "\n",
    "\n",
    "\n",
    "\n"
   ]
  },
  {
   "cell_type": "code",
   "execution_count": null,
   "id": "a0f5dd44",
   "metadata": {},
   "outputs": [],
   "source": []
  },
  {
   "cell_type": "code",
   "execution_count": null,
   "id": "1cfd373e",
   "metadata": {},
   "outputs": [],
   "source": []
  }
 ],
 "metadata": {
  "kernelspec": {
   "display_name": "Python 3",
   "language": "python",
   "name": "python3"
  },
  "language_info": {
   "codemirror_mode": {
    "name": "ipython",
    "version": 3
   },
   "file_extension": ".py",
   "mimetype": "text/x-python",
   "name": "python",
   "nbconvert_exporter": "python",
   "pygments_lexer": "ipython3",
   "version": "3.8.8"
  }
 },
 "nbformat": 4,
 "nbformat_minor": 5
}
