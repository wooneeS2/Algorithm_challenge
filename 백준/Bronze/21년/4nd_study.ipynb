{
 "cells": [
  {
   "cell_type": "markdown",
   "metadata": {},
   "source": [
    "#### 11월 10일 스터디\n",
    "- 1212  \n",
    "- 1247\n",
    "- 1100\n",
    "- 1152\n",
    "- 1145(미해결)\n",
    "- 1157(시간초과)"
   ]
  },
  {
   "cell_type": "code",
   "execution_count": null,
   "metadata": {},
   "outputs": [],
   "source": [
    "#1212번\n",
    "#8진수 입력받기\n",
    "n = int(input(),8)\n",
    "#2진수 출력하기\n",
    "print(format(n,'b'))\n"
   ]
  },
  {
   "cell_type": "code",
   "execution_count": null,
   "metadata": {},
   "outputs": [],
   "source": [
    "#1247번\n",
    "import sys\n",
    "\n",
    "#주어진 테스트케이스 3개를 받음\n",
    "for _ in range(3):\n",
    "    t = int(int(sys.stdin.readline()))\n",
    "    #테스트케이스의 숫자만큼의 크기를 가지고 있는 배열 생성\n",
    "    numbers = [0]*t\n",
    "\n",
    "    for i in range(t):\n",
    "        # t만큼 숫자를 입력받음\n",
    "        numbers[i]=int(int(sys.stdin.readline()))\n",
    "    # 숫자들의 합이 0이면 0 출력\n",
    "    if sum(numbers)==0:\n",
    "        print(0)\n",
    "    else:\n",
    "    #숫자들의 합이 0보다크면 +출력, 아니면 - 출력\n",
    "        print(\"+\") if sum(numbers) >0 else print(\"-\")\n",
    "    numbers =[]\n"
   ]
  },
  {
   "cell_type": "code",
   "execution_count": null,
   "metadata": {},
   "outputs": [],
   "source": [
    "#1152번\n",
    "import sys\n",
    "s = sys.stdin.readline()\n",
    "words=[]\n",
    "#문장을 공백으로 나눠서 배열에 저장\n",
    "words =s.split(\" \")\n",
    "#첫번째 문자열이 공백일 경우 첫번째 원소 삭제\n",
    "if words[0]==\"\":\n",
    "    del words[0]\n",
    "# 마지막 문자열이 공백이거나 엔터일 경우 마지막 원소 삭제\n",
    "if words[-1]==\"\" or words[-1]==\"\\n\":\n",
    "    del words[-1]\n",
    "# print(words)\n",
    "#배열의 개수 세기\n",
    "print(len(words))"
   ]
  },
  {
   "cell_type": "code",
   "execution_count": null,
   "metadata": {},
   "outputs": [],
   "source": [
    "#1100번\n",
    "import sys\n",
    "chess = []\n",
    "cnt = 0\n",
    "#8줄의 상황을 입력받음\n",
    "for _ in range(8):\n",
    "    status = list(sys.stdin.readline())\n",
    "    #마지막 엔터 제거\n",
    "    del status[-1]\n",
    "    #한줄씩 체스 배열에 추가함\n",
    "    chess.append(status)\n",
    "'''\n",
    "(x,y)좌표가 있을때, 체스판을 1-8이라 생각하면\n",
    "세로 인덱스가 홀수 일 때 가로 인덱스도 홀수인게 하얀 칸임\n",
    "세로 인덱스가 짝수 일 때 가로 인덱스도 짝수인게 하얀 칸임.\n",
    "'''\n",
    "#여기서 i는 세로 인덱스\n",
    "for i in range(1, len(chess)+1):\n",
    "    #세로인덱스가 홀수이면\n",
    "    if i%2 !=0:\n",
    "        #가로 인덱스도 홀수칸만 검사\n",
    "        #j는 가로 인덱스\n",
    "        for j in range(0,len(chess[i-1]),2):\n",
    "            #해당 칸에 F가 들어있으면 cnt+1\n",
    "            if chess[i-1][j] =='F':\n",
    "                cnt=cnt+1\n",
    "            # print(chess[i-1][j])\n",
    "            # print(j)\n",
    "    #세로 인덱스가 홀수가 아니면(짝수이면)\n",
    "    else:\n",
    "        #가로 인덱스도 짝수칸만 검사\n",
    "        #j는 가로 인덱스\n",
    "        for j in range(1,len(chess[i-1]),2):\n",
    "            #해당 칸에 F가 들어있으면 cnt+1\n",
    "            if chess[i-1][j]=='F':\n",
    "                cnt=cnt+1\n",
    "            # print(j)\n",
    "#말의 개수 출력\n",
    "print(cnt)"
   ]
  },
  {
   "cell_type": "code",
   "execution_count": 1,
   "metadata": {},
   "outputs": [
    {
     "ename": "IndexError",
     "evalue": "list assignment index out of range",
     "output_type": "error",
     "traceback": [
      "\u001b[0;31m---------------------------------------------------------------------------\u001b[0m",
      "\u001b[0;31mIndexError\u001b[0m                                Traceback (most recent call last)",
      "\u001b[0;32m/var/folders/0v/gjpwhv5957g8vj67w5f41_680000gn/T/ipykernel_74888/3556100369.py\u001b[0m in \u001b[0;36m<module>\u001b[0;34m\u001b[0m\n\u001b[1;32m      6\u001b[0m \u001b[0mlist\u001b[0m\u001b[0;34m=\u001b[0m\u001b[0mlist\u001b[0m\u001b[0;34m(\u001b[0m\u001b[0ms\u001b[0m\u001b[0;34m)\u001b[0m\u001b[0;34m\u001b[0m\u001b[0;34m\u001b[0m\u001b[0m\n\u001b[1;32m      7\u001b[0m \u001b[0;31m#맨 뒤에 엔터 제거\u001b[0m\u001b[0;34m\u001b[0m\u001b[0;34m\u001b[0m\u001b[0;34m\u001b[0m\u001b[0m\n\u001b[0;32m----> 8\u001b[0;31m \u001b[0;32mdel\u001b[0m \u001b[0mlist\u001b[0m\u001b[0;34m[\u001b[0m\u001b[0;34m-\u001b[0m\u001b[0;36m1\u001b[0m\u001b[0;34m]\u001b[0m\u001b[0;34m\u001b[0m\u001b[0;34m\u001b[0m\u001b[0m\n\u001b[0m\u001b[1;32m      9\u001b[0m \u001b[0;34m\u001b[0m\u001b[0m\n\u001b[1;32m     10\u001b[0m \u001b[0;31m#새로운 리스트를 만들어서 원래 있던 리스트의 값들을 모두 대문자로 넣어만들어줌\u001b[0m\u001b[0;34m\u001b[0m\u001b[0;34m\u001b[0m\u001b[0;34m\u001b[0m\u001b[0m\n",
      "\u001b[0;31mIndexError\u001b[0m: list assignment index out of range"
     ]
    }
   ],
   "source": [
    "#1157번\n",
    "#시간초과 ㅠㅠ\n",
    "import sys\n",
    "#단어를 입력받아서 리스트로 만듦\n",
    "s = sys.stdin.readline()\n",
    "list=list(s)\n",
    "#맨 뒤에 엔터 제거\n",
    "del list[-1]\n",
    "\n",
    "#새로운 리스트를 만들어서 원래 있던 리스트의 값들을 모두 대문자로 넣어만들어줌\n",
    "newList=[]\n",
    "for i in list:\n",
    "    newList.append(i.upper())\n",
    "\n",
    "newDic={}\n",
    "#해당 리스트에 해당 인덱스가 몇개 들어있는지 세고 해당 문자(키)와 개수(값)를 딕셔너리로 만들어줌\n",
    "for i in range(0,len(newList)):\n",
    "    n = newList.count(newList[i]) \n",
    "    #TODO : setdefault함수말고 다른 방법으로 만들어보기\n",
    "    newDic.setdefault(newList[i],n)\n",
    "    \n",
    "# print(newDic)\n",
    "#딕셔너리의 값들중에 가장 큰 값을 찾아줌\n",
    "maxNum = max(newDic.values())\n",
    "keyList=[]\n",
    "result=0\n",
    "\n",
    "#딕셔너리 탐색\n",
    "for key,value in newDic.items():\n",
    "    #딕셔너리에서 맥스 넘과 같은 값이 있는 키들을 모아서 리스트로 만들어줌\n",
    "    #결과값에 키를 넣어줌\n",
    "    if value == maxNum:\n",
    "        keyList.append(key)\n",
    "        result=key\n",
    "# print(keyList)\n",
    "\n",
    "#키 리스트가 1개 초과면 ? 출력\n",
    "if len(keyList)>1:\n",
    "    print(\"?\")\n",
    "# 키 리스트가 1개 이하면 result 출력\n",
    "else:\n",
    "    print(result)\n"
   ]
  },
  {
   "cell_type": "code",
   "execution_count": null,
   "metadata": {},
   "outputs": [],
   "source": []
  }
 ],
 "metadata": {
  "interpreter": {
   "hash": "aee8b7b246df8f9039afb4144a1f6fd8d2ca17a180786b69acc140d282b71a49"
  },
  "kernelspec": {
   "display_name": "Python 3.9.2 64-bit",
   "language": "python",
   "name": "python3"
  },
  "language_info": {
   "codemirror_mode": {
    "name": "ipython",
    "version": 3
   },
   "file_extension": ".py",
   "mimetype": "text/x-python",
   "name": "python",
   "nbconvert_exporter": "python",
   "pygments_lexer": "ipython3",
   "version": "3.9.2"
  },
  "orig_nbformat": 4
 },
 "nbformat": 4,
 "nbformat_minor": 2
}
