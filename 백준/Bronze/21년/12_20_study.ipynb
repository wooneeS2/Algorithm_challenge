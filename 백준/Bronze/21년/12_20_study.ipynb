{
 "cells": [
  {
   "cell_type": "markdown",
   "id": "e547184c",
   "metadata": {},
   "source": [
    "### 12/20 스터디\n",
    "2163\n",
    "2355\n",
    "2438\n",
    "2439\n",
    "1159\n",
    "1173"
   ]
  },
  {
   "cell_type": "code",
   "execution_count": null,
   "id": "2ed5349b",
   "metadata": {},
   "outputs": [],
   "source": [
    "#2163\n",
    "# import sys\n",
    "\n",
    "# n,m = map(int,sys.stdin.readline().split())\n",
    "n,m = map(int,input().split())\n",
    "\n",
    "\n",
    "print((n*m-m)+(m-1))"
   ]
  },
  {
   "cell_type": "markdown",
   "id": "5cd5e9b5",
   "metadata": {},
   "source": [
    "### n부터 m까지 합\n",
    "(n+m)*(m-n+1)//2\n",
    "-> (첫번째 원소+마지막원소) * 원소의 개수 //2\n",
    "\n",
    "참고 : https://adgw.tistory.com/entry/%EC%95%8C%EA%B3%A0%EB%A6%AC%EC%A6%98-1-n%EA%B9%8C%EC%A7%80-%ED%95%A9%EC%9D%84-%EA%B5%AC%ED%95%98%EB%8A%94-%EC%9B%90%EB%A6%AC"
   ]
  },
  {
   "cell_type": "code",
   "execution_count": 2,
   "id": "619cb7de",
   "metadata": {},
   "outputs": [
    {
     "name": "stdout",
     "output_type": "stream",
     "text": [
      "5 10\n",
      "45\n"
     ]
    }
   ],
   "source": [
    "#2355\n",
    "a,b = map(int,input().split())\n",
    "m = max(a,b)\n",
    "n = min(a,b)\n",
    "print((m+n)*(m-n+1)//2)"
   ]
  },
  {
   "cell_type": "code",
   "execution_count": 3,
   "id": "1556d7fa",
   "metadata": {},
   "outputs": [],
   "source": [
    "#2438\n",
    "n = int(input())\n",
    "for i in range(n+1):\n",
    "    print('*'* i)"
   ]
  },
  {
   "cell_type": "code",
   "execution_count": 4,
   "id": "add4bfde",
   "metadata": {},
   "outputs": [],
   "source": [
    "#2439\n",
    "n = int(input())\n",
    "for i in range(1,n+1):\n",
    "    print(' '*(n-i)+'*'*i)"
   ]
  },
  {
   "cell_type": "code",
   "execution_count": null,
   "id": "3325bd0c",
   "metadata": {},
   "outputs": [],
   "source": [
    "#1159\n",
    "n = int(input())\n",
    "player=[]\n",
    "for i in range(n):\n",
    "    player.append(input()[:1])\n",
    "\n",
    "# print(player)\n",
    "\n",
    "# count = player.count('a')\n",
    "# print(count)\n",
    "\n",
    "lists = []\n",
    "for i in player:\n",
    "    count = player.count(i)\n",
    "    if count >= 5:\n",
    "        lists.append(i)\n",
    "\n",
    "new_set = set(lists)\n",
    "print(new_set)\n",
    "new_list = list(new_set)\n",
    "print(new_list)\n",
    "\n",
    "\n",
    "if len(new_list)!=0 :\n",
    "    \n",
    "    s = ''.join(sorted(new_list))\n",
    "    print(s) \n",
    "else :print(\"PREDAJA\")"
   ]
  },
  {
   "cell_type": "code",
   "execution_count": null,
   "id": "5ef87c16",
   "metadata": {},
   "outputs": [],
   "source": [
    "#1173\n",
    "N,m,M,T,R = map(int,input().split())\n",
    "#맥박&운동시간&카운트\n",
    "pulse = m\n",
    "times=0\n",
    "count=0\n",
    "#운동시간\n",
    "count_correct = lambda x: x==N\n",
    "#운동하면 최대맥박인지?\n",
    "is_max = lambda x : x+T <=M\n",
    "#최소맥박인지?\n",
    "is_rest = lambda x : x<=m\n",
    "\n",
    "\n",
    "while True :\n",
    "    if m+T > M:\n",
    "        print(\"-1\")\n",
    "        break\n",
    "    else:\n",
    "        if count_correct(times) :\n",
    "            print(count)\n",
    "            break\n",
    "        else :\n",
    "            count+=1\n",
    "            if is_max(pulse) :\n",
    "                times+=1\n",
    "                pulse+=T\n",
    "    #             print(\"운동\",pulse)\n",
    "\n",
    "            else :\n",
    "                pulse-=R\n",
    "    #             print(\"휴식\",pulse)\n",
    "\n",
    "                if is_rest(pulse):\n",
    "\n",
    "                    pulse = m\n",
    "\n",
    "                else :\n",
    "                    pass\n",
    "\n",
    "\n",
    "    # print(count_all(10))\n",
    "    # print(pulse)\n",
    "    # print(is_max(pulse))\n",
    "    # print(is_rest(pulse))\n",
    "\n",
    "\n",
    "\n",
    "\n",
    "\n"
   ]
  }
 ],
 "metadata": {
  "kernelspec": {
   "display_name": "Python 3",
   "language": "python",
   "name": "python3"
  },
  "language_info": {
   "codemirror_mode": {
    "name": "ipython",
    "version": 3
   },
   "file_extension": ".py",
   "mimetype": "text/x-python",
   "name": "python",
   "nbconvert_exporter": "python",
   "pygments_lexer": "ipython3",
   "version": "3.8.8"
  }
 },
 "nbformat": 4,
 "nbformat_minor": 5
}
