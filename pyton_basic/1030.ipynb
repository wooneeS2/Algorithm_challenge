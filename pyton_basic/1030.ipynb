{
 "cells": [
  {
   "cell_type": "markdown",
   "metadata": {},
   "source": [
    "211030 알고리즘 공부\n"
   ]
  },
  {
   "cell_type": "code",
   "execution_count": 7,
   "metadata": {},
   "outputs": [
    {
     "name": "stdout",
     "output_type": "stream",
     "text": [
      "0 0 0 0 0\n",
      "0 0 0 0 0\n",
      "0 0 0 0 0\n",
      "0 0 0 0 0\n",
      "0 0 0 1 0\n"
     ]
    }
   ],
   "source": [
    "#우리밋 님이 만든 내 미래 문제\n",
    "#이차원배열\n",
    "\n",
    "# 튜플로 현재 위치의 좌표를 받는다. \n",
    "# 입력받는 현재위치는 바뀌면 안되므로 list가 아닌 tuple로 값을 받음.\n",
    "c = tuple(map(int,input().split()))\n",
    "#왼쪽,오른쪽,위,아래를 각각 입력 받는다.\n",
    "l,r,u,d = map(int,input().split())\n",
    "# 훈련장의 크기인 5*5의 배열을 만들어준다.\n",
    "# 배열 안의 값은 0으로 차있다.\n",
    "t = [[0 for _ in range (5)] for _ in range(5)]\n",
    "# 움진인(움직여서 도착한) 좌표를 구해준다.\n",
    "#올라가면 왼쪽(세로)의 좌표 값이 u만큼 -되고, 내려가면 왼쪽 좌표값이 d만큼 +된다.\n",
    "#왼쪽으로 가면 오른쪽(가로)의 좌표값이 l만큼 -되고, 오른쪽으로 가면 오른쪽 좌표 값이 r만큼 -된다.\n",
    "move = (c[0] -u +d, c[1]-l +r)\n",
    "#훈련장 배열에 움직인 위치 좌표를 넣어주고 거기에 값을 1로 넣어준다.\n",
    "#움직인 위치(입력값)는 5기준인데, 배열은 0부터 시작하므로 -1씩 빼준다.\n",
    "t [move[0]-1][move[1]-1] = 1\n",
    "# t 배열에서 값을 언팩킹해서 출력해준다.\n",
    "for i in t:\n",
    "    print(*i)\n",
    "\n"
   ]
  },
  {
   "cell_type": "code",
   "execution_count": 9,
   "metadata": {},
   "outputs": [
    {
     "name": "stdout",
     "output_type": "stream",
     "text": [
      "1 0 0 0 0 0 0 0 0 0 0 0 0 0 0 0 0 0 0 0\n",
      "0 1 0 0 0 0 0 0 0 0 0 0 0 0 0 0 0 0 0 0\n",
      "0 0 1 0 0 0 0 0 0 0 0 0 0 0 0 0 0 0 0 0\n",
      "0 0 0 0 0 0 0 0 0 0 0 0 0 0 0 0 0 0 0 0\n",
      "0 0 0 0 0 0 0 0 0 0 0 0 0 0 0 0 0 0 0 0\n",
      "0 0 0 0 0 0 0 0 0 0 0 0 0 0 0 0 0 0 0 0\n",
      "0 0 0 0 0 0 0 0 0 0 0 0 0 0 0 0 0 0 0 0\n",
      "0 0 0 0 0 0 0 0 0 0 0 0 0 0 0 0 0 0 0 0\n",
      "0 0 0 0 0 0 0 0 0 0 0 0 0 0 0 0 0 0 0 0\n",
      "0 0 0 0 0 0 0 0 0 0 0 0 0 0 0 0 0 0 0 0\n",
      "0 0 0 0 0 0 0 0 0 0 0 0 0 0 0 0 0 0 0 0\n",
      "0 0 0 0 0 0 0 0 0 0 0 0 0 0 0 0 0 0 0 0\n",
      "0 0 0 0 0 0 0 0 0 0 0 0 0 0 0 0 0 0 0 0\n",
      "0 0 0 0 0 0 0 0 0 0 0 0 0 0 0 0 0 0 0 0\n",
      "0 0 0 0 0 0 0 0 0 0 0 0 0 0 0 0 0 0 0 0\n",
      "0 0 0 0 0 0 0 0 0 0 0 0 0 0 0 0 0 0 0 0\n",
      "0 0 0 0 0 0 0 0 0 0 0 0 0 0 0 0 0 0 0 0\n",
      "0 0 0 0 0 0 0 0 0 0 0 0 0 0 0 0 0 0 0 0\n",
      "0 0 0 0 0 0 0 0 0 0 0 0 0 0 0 0 0 0 0 0\n",
      "0 0 0 0 0 0 0 0 0 0 0 0 0 0 0 0 0 0 0 0\n"
     ]
    }
   ],
   "source": [
    "#1029복습\n",
    "#6095문제\n",
    "\n",
    "n = int(input())\n",
    "p = [[0 for _ in range(19)] for _ in range(19)]\n",
    "\n",
    "for i in range(n):\n",
    "    w = tuple(map(int,input().split()))\n",
    "    p[w[0]-1][w[1]-1] = 1\n",
    "\n",
    "for i in p:\n",
    "    print(*i)"
   ]
  },
  {
   "cell_type": "markdown",
   "metadata": {},
   "source": [
    "----엘리스 소규모 코테 스터디 문제 풀이 ----    \n",
    "백준 1009,1085,1075,1076,1032,1110"
   ]
  },
  {
   "cell_type": "code",
   "execution_count": 15,
   "metadata": {},
   "outputs": [
    {
     "name": "stdout",
     "output_type": "stream",
     "text": [
      "1\n",
      "7\n",
      "6\n",
      "1\n",
      "9\n"
     ]
    }
   ],
   "source": [
    "#1009번\n",
    "#시간 초과\n",
    "n = int(input())\n",
    "\n",
    "for i in range(n):\n",
    "    a, b = map(int,input().split())\n",
    "    if(a**b % 10 == 0):\n",
    "        print(\"10\")\n",
    "    else :\n",
    "        print(a**b % 10)"
   ]
  },
  {
   "cell_type": "code",
   "execution_count": 20,
   "metadata": {},
   "outputs": [
    {
     "name": "stdout",
     "output_type": "stream",
     "text": [
      "347\n"
     ]
    }
   ],
   "source": [
    "#1085\n",
    "#정답\n",
    "x,y,w,h = map(int,input().split())\n",
    "place =[]\n",
    "\n",
    "place.append(abs(x-0))\n",
    "place.append(abs(y-0))\n",
    "place.append(abs(x-w))\n",
    "place.append(abs(y-h))\n",
    "\n",
    "print(min(place))"
   ]
  },
  {
   "cell_type": "code",
   "execution_count": 16,
   "metadata": {},
   "outputs": [
    {
     "name": "stdout",
     "output_type": "stream",
     "text": [
      "1000\n"
     ]
    }
   ],
   "source": [
    "\n",
    "#1075\n",
    "#정답\n",
    "n = int(input())\n",
    "f = int(input())\n",
    "\n",
    "num = (n//100)*100\n",
    "\n",
    "i=0\n",
    "while True :\n",
    "    d = num%f    \n",
    "    if(d==0):\n",
    "        print(str(num)[-2:])\n",
    "        break\n",
    "    num+=1\n",
    "\n",
    "    "
   ]
  },
  {
   "cell_type": "code",
   "execution_count": null,
   "metadata": {},
   "outputs": [],
   "source": [
    "#1076\n",
    "#정답\n",
    "color = [\"black\",\"brown\",\"red\",\"orange\",\"yellow\",\"green\",\"blue\",\"violet\",\"grey\",\"white\"]\n",
    "\n",
    "x = input()\n",
    "y = input()\n",
    "z = input()\n",
    "\n",
    "print(((color.index(x)*10)+(color.index(y)))*(10**color.index(z)))\n"
   ]
  },
  {
   "cell_type": "code",
   "execution_count": null,
   "metadata": {},
   "outputs": [],
   "source": [
    "\n"
   ]
  }
 ],
 "metadata": {
  "interpreter": {
   "hash": "aee8b7b246df8f9039afb4144a1f6fd8d2ca17a180786b69acc140d282b71a49"
  },
  "kernelspec": {
   "display_name": "Python 3.9.2 64-bit",
   "language": "python",
   "name": "python3"
  },
  "language_info": {
   "codemirror_mode": {
    "name": "ipython",
    "version": 3
   },
   "file_extension": ".py",
   "mimetype": "text/x-python",
   "name": "python",
   "nbconvert_exporter": "python",
   "pygments_lexer": "ipython3",
   "version": "3.9.2"
  },
  "orig_nbformat": 4
 },
 "nbformat": 4,
 "nbformat_minor": 2
}
